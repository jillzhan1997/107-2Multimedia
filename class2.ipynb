{
  "nbformat": 4,
  "nbformat_minor": 0,
  "metadata": {
    "colab": {
      "name": "class2.ipynb",
      "version": "0.3.2",
      "provenance": [],
      "include_colab_link": true
    },
    "kernelspec": {
      "display_name": "Python 3",
      "language": "python",
      "name": "python3"
    }
  },
  "cells": [
    {
      "cell_type": "markdown",
      "metadata": {
        "id": "view-in-github",
        "colab_type": "text"
      },
      "source": [
        "<a href=\"https://colab.research.google.com/github/jillzhan1997/107-2Multimedia/blob/master/class2.ipynb\" target=\"_parent\"><img src=\"https://colab.research.google.com/assets/colab-badge.svg\" alt=\"Open In Colab\"/></a>"
      ]
    },
    {
      "metadata": {
        "id": "O7li70hqASn5",
        "colab_type": "code",
        "colab": {}
      },
      "cell_type": "code",
      "source": [
        "import numpy as np\n",
        "#https://zh.wilipedia.org/wiki/NumPy"
      ],
      "execution_count": 0,
      "outputs": []
    },
    {
      "metadata": {
        "id": "m-mmxz0BASn-",
        "colab_type": "code",
        "colab": {},
        "outputId": "c4101f8b-5aa7-49bf-ba8a-44a7ef4e4040"
      },
      "cell_type": "code",
      "source": [
        "x=np.array([1,2,3])\n",
        "x"
      ],
      "execution_count": 0,
      "outputs": [
        {
          "output_type": "execute_result",
          "data": {
            "text/plain": [
              "array([1, 2, 3])"
            ]
          },
          "metadata": {
            "tags": []
          },
          "execution_count": 15
        }
      ]
    },
    {
      "metadata": {
        "id": "vOLqiZ-gASoE",
        "colab_type": "code",
        "colab": {},
        "outputId": "fc2034e6-6617-493b-80aa-7d059ce3eec4"
      },
      "cell_type": "code",
      "source": [
        "y=np.arange(10)\n",
        "y"
      ],
      "execution_count": 0,
      "outputs": [
        {
          "output_type": "execute_result",
          "data": {
            "text/plain": [
              "array([0, 1, 2, 3, 4, 5, 6, 7, 8, 9])"
            ]
          },
          "metadata": {
            "tags": []
          },
          "execution_count": 16
        }
      ]
    },
    {
      "metadata": {
        "id": "kargeXDYASoJ",
        "colab_type": "code",
        "colab": {},
        "outputId": "f1a5c4f1-311e-4149-c345-12abd9be72b7"
      },
      "cell_type": "code",
      "source": [
        "a=np.array([1,3,6,9,])\n",
        "b=np.linspace(0,15,4)\n",
        "a,b"
      ],
      "execution_count": 0,
      "outputs": [
        {
          "output_type": "execute_result",
          "data": {
            "text/plain": [
              "(array([1, 3, 6, 9]), array([ 0.,  5., 10., 15.]))"
            ]
          },
          "metadata": {
            "tags": []
          },
          "execution_count": 20
        }
      ]
    },
    {
      "metadata": {
        "id": "o0c1UJrHASoO",
        "colab_type": "code",
        "colab": {},
        "outputId": "8bfea8a6-617b-4b5e-b1be-f1edf1dc702e"
      },
      "cell_type": "code",
      "source": [
        "c=a-b\n",
        "c"
      ],
      "execution_count": 0,
      "outputs": [
        {
          "output_type": "execute_result",
          "data": {
            "text/plain": [
              "array([ 1., -2., -4., -6.])"
            ]
          },
          "metadata": {
            "tags": []
          },
          "execution_count": 22
        }
      ]
    },
    {
      "metadata": {
        "id": "eQgpU6O9ASoU",
        "colab_type": "code",
        "colab": {},
        "outputId": "6dbd81cb-c492-4fdf-bf50-c82d4429f4f7"
      },
      "cell_type": "code",
      "source": [
        "a**2"
      ],
      "execution_count": 0,
      "outputs": [
        {
          "output_type": "execute_result",
          "data": {
            "text/plain": [
              "array([ 1,  9, 36, 81])"
            ]
          },
          "metadata": {
            "tags": []
          },
          "execution_count": 24
        }
      ]
    },
    {
      "metadata": {
        "id": "a2dKwG8BASoZ",
        "colab_type": "code",
        "colab": {},
        "outputId": "5cb02136-1c7a-4819-f8c3-a7fe78c94346"
      },
      "cell_type": "code",
      "source": [
        "a=np.array([[1,2,3],[4,5,6],[7,8,9]])\n",
        "a.transpose () "
      ],
      "execution_count": 0,
      "outputs": [
        {
          "output_type": "execute_result",
          "data": {
            "text/plain": [
              "array([[1, 4, 7],\n",
              "       [2, 5, 8],\n",
              "       [3, 6, 9]])"
            ]
          },
          "metadata": {
            "tags": []
          },
          "execution_count": 134
        }
      ]
    },
    {
      "metadata": {
        "id": "qkLediSkASoe",
        "colab_type": "code",
        "colab": {},
        "outputId": "7795c6cf-311d-4826-910b-fde133a5b270"
      },
      "cell_type": "code",
      "source": [
        "a2=np.array([[1., 2.], [3., 4.]])\n",
        "np.linalg.inv(a2)"
      ],
      "execution_count": 0,
      "outputs": [
        {
          "output_type": "execute_result",
          "data": {
            "text/plain": [
              "array([[-2. ,  1. ],\n",
              "       [ 1.5, -0.5]])"
            ]
          },
          "metadata": {
            "tags": []
          },
          "execution_count": 48
        }
      ]
    },
    {
      "metadata": {
        "id": "cr_3BWA6ASoh",
        "colab_type": "code",
        "colab": {},
        "outputId": "39a85aad-fc04-4925-fe75-05fbf3012f2f"
      },
      "cell_type": "code",
      "source": [
        "a3=np.array([[3,1],[1,2]])\n",
        "b=np.array([9,8])\n",
        "x=np.linalg.solve (a3 , b)\n",
        "x"
      ],
      "execution_count": 0,
      "outputs": [
        {
          "output_type": "execute_result",
          "data": {
            "text/plain": [
              "array([2., 3.])"
            ]
          },
          "metadata": {
            "tags": []
          },
          "execution_count": 57
        }
      ]
    },
    {
      "metadata": {
        "id": "io0UMuZ8ASol",
        "colab_type": "code",
        "colab": {},
        "outputId": "87282c3a-b13d-4602-9c0f-3509b0c4ac23"
      },
      "cell_type": "code",
      "source": [
        "c=np.random.rand(3,3)\n",
        "c"
      ],
      "execution_count": 0,
      "outputs": [
        {
          "output_type": "execute_result",
          "data": {
            "text/plain": [
              "array([[0.42269502, 0.56942798, 0.35652961],\n",
              "       [0.83439351, 0.43391175, 0.95752573],\n",
              "       [0.1810063 , 0.78872114, 0.32077761]])"
            ]
          },
          "metadata": {
            "tags": []
          },
          "execution_count": 58
        }
      ]
    },
    {
      "metadata": {
        "id": "MKa43ACDASoo",
        "colab_type": "code",
        "colab": {},
        "outputId": "af97176e-d1d4-4c56-f33a-b4b39e54eff9"
      },
      "cell_type": "code",
      "source": [
        "np.dot(a,c)"
      ],
      "execution_count": 0,
      "outputs": [
        {
          "output_type": "execute_result",
          "data": {
            "text/plain": [
              "array([[ 2.63450093,  3.80341488,  3.2339139 ],\n",
              "       [ 6.94878541,  9.17959747,  8.13841274],\n",
              "       [11.26306989, 14.55578006, 13.04291159]])"
            ]
          },
          "metadata": {
            "tags": []
          },
          "execution_count": 135
        }
      ]
    },
    {
      "metadata": {
        "id": "tVbLilepASoq",
        "colab_type": "code",
        "colab": {},
        "outputId": "5a9cf29e-0dda-4b27-b6b0-d98fd1c2dcd6"
      },
      "cell_type": "code",
      "source": [
        "z=np.zeros((2,4),np.uint8)\n",
        "type(z)"
      ],
      "execution_count": 0,
      "outputs": [
        {
          "output_type": "execute_result",
          "data": {
            "text/plain": [
              "numpy.ndarray"
            ]
          },
          "metadata": {
            "tags": []
          },
          "execution_count": 62
        }
      ]
    },
    {
      "metadata": {
        "id": "KykbVh6nASos",
        "colab_type": "code",
        "colab": {},
        "outputId": "da63e73c-68c5-4a83-9823-518db512d806"
      },
      "cell_type": "code",
      "source": [
        "z"
      ],
      "execution_count": 0,
      "outputs": [
        {
          "output_type": "execute_result",
          "data": {
            "text/plain": [
              "array([[0, 0, 0, 0],\n",
              "       [0, 0, 0, 0]], dtype=uint8)"
            ]
          },
          "metadata": {
            "tags": []
          },
          "execution_count": 63
        }
      ]
    },
    {
      "metadata": {
        "id": "xZ2U66ksASov",
        "colab_type": "code",
        "colab": {},
        "outputId": "f3c13e37-ec1e-4f55-fe56-9525213d270e"
      },
      "cell_type": "code",
      "source": [
        "o=np.ones ((2,4),np.int32)\n",
        "o"
      ],
      "execution_count": 0,
      "outputs": [
        {
          "output_type": "execute_result",
          "data": {
            "text/plain": [
              "array([[1, 1, 1, 1],\n",
              "       [1, 1, 1, 1]], dtype=int32)"
            ]
          },
          "metadata": {
            "tags": []
          },
          "execution_count": 65
        }
      ]
    },
    {
      "metadata": {
        "id": "nWaOEFRQASox",
        "colab_type": "code",
        "colab": {},
        "outputId": "f787f890-4545-4eb0-96c3-38e062578bc0"
      },
      "cell_type": "code",
      "source": [
        "m=np.array([[4,12,3,1],[10,12,14,29]],np.float32)\n",
        "m"
      ],
      "execution_count": 0,
      "outputs": [
        {
          "output_type": "execute_result",
          "data": {
            "text/plain": [
              "array([[ 4., 12.,  3.,  1.],\n",
              "       [10., 12., 14., 29.]], dtype=float32)"
            ]
          },
          "metadata": {
            "tags": []
          },
          "execution_count": 66
        }
      ]
    },
    {
      "metadata": {
        "id": "7wPGf631ASoy",
        "colab_type": "code",
        "colab": {},
        "outputId": "3a638a33-38dd-479f-a393-38bbf04f5ea9"
      },
      "cell_type": "code",
      "source": [
        "m.shape"
      ],
      "execution_count": 0,
      "outputs": [
        {
          "output_type": "execute_result",
          "data": {
            "text/plain": [
              "(2, 4)"
            ]
          },
          "metadata": {
            "tags": []
          },
          "execution_count": 67
        }
      ]
    },
    {
      "metadata": {
        "id": "pqxI4BMTASo0",
        "colab_type": "code",
        "colab": {},
        "outputId": "50b7dd85-58f1-4241-d09e-f43101630256"
      },
      "cell_type": "code",
      "source": [
        "m.dtype"
      ],
      "execution_count": 0,
      "outputs": [
        {
          "output_type": "execute_result",
          "data": {
            "text/plain": [
              "dtype('float32')"
            ]
          },
          "metadata": {
            "tags": []
          },
          "execution_count": 68
        }
      ]
    },
    {
      "metadata": {
        "id": "n5ZZOmXiASo3",
        "colab_type": "code",
        "colab": {},
        "outputId": "cd1b4924-b73c-4cab-ace0-4ebec050ab54"
      },
      "cell_type": "code",
      "source": [
        "m=np.array([[[1,2,3,4],[5,6,7,8]],[[10,11,12,14],[15,16,17,18]]],np.float32)\n",
        "m"
      ],
      "execution_count": 0,
      "outputs": [
        {
          "output_type": "execute_result",
          "data": {
            "text/plain": [
              "array([[[ 1.,  2.,  3.,  4.],\n",
              "        [ 5.,  6.,  7.,  8.]],\n",
              "\n",
              "       [[10., 11., 12., 14.],\n",
              "        [15., 16., 17., 18.]]], dtype=float32)"
            ]
          },
          "metadata": {
            "tags": []
          },
          "execution_count": 74
        }
      ]
    },
    {
      "metadata": {
        "id": "y5BSN6DkASo6",
        "colab_type": "code",
        "colab": {},
        "outputId": "8a1f068d-69b3-4ae4-b688-fbf99003c779"
      },
      "cell_type": "code",
      "source": [
        "m=np.array([[14,12,3,1],[10,12,114,29],[67,23,534,2]],np.float32)\n",
        "m [1,3] "
      ],
      "execution_count": 0,
      "outputs": [
        {
          "output_type": "execute_result",
          "data": {
            "text/plain": [
              "29.0"
            ]
          },
          "metadata": {
            "tags": []
          },
          "execution_count": 77
        }
      ]
    },
    {
      "metadata": {
        "id": "r8BOppVvASo9",
        "colab_type": "code",
        "colab": {},
        "outputId": "3409dbb0-3d84-4b37-c724-63826270ca09"
      },
      "cell_type": "code",
      "source": [
        "m [2, :] "
      ],
      "execution_count": 0,
      "outputs": [
        {
          "output_type": "execute_result",
          "data": {
            "text/plain": [
              "array([ 67.,  23., 534.,   2.], dtype=float32)"
            ]
          },
          "metadata": {
            "tags": []
          },
          "execution_count": 79
        }
      ]
    },
    {
      "metadata": {
        "id": "kDvcJjSYASo_",
        "colab_type": "code",
        "colab": {},
        "outputId": "8bdf8f3c-919d-4d9d-9dc9-0e3bb24d5034"
      },
      "cell_type": "code",
      "source": [
        "m [:,3] "
      ],
      "execution_count": 0,
      "outputs": [
        {
          "output_type": "execute_result",
          "data": {
            "text/plain": [
              "array([ 1., 29.,  2.], dtype=float32)"
            ]
          },
          "metadata": {
            "tags": []
          },
          "execution_count": 80
        }
      ]
    },
    {
      "metadata": {
        "id": "r_dQ_Ep7ASpA",
        "colab_type": "code",
        "colab": {},
        "outputId": "b615d428-e0d2-4b65-e7b6-86027c8fcd30"
      },
      "cell_type": "code",
      "source": [
        "m[0:2,1:3] "
      ],
      "execution_count": 0,
      "outputs": [
        {
          "output_type": "execute_result",
          "data": {
            "text/plain": [
              "array([[ 12.,   3.],\n",
              "       [ 12., 114.]], dtype=float32)"
            ]
          },
          "metadata": {
            "tags": []
          },
          "execution_count": 81
        }
      ]
    },
    {
      "metadata": {
        "id": "8YyCBY3vASpC",
        "colab_type": "code",
        "colab": {},
        "outputId": "4088d286-3ffa-41bb-af90-0b495480329d"
      },
      "cell_type": "code",
      "source": [
        "m=np.array([[[1,2,3,4],[5,6,7,8]],[[10,11,12,14],[15,16,17,18]],[[11,12,43,32],[1,5, 10,23]\n",
        "m"
      ],
      "execution_count": 0,
      "outputs": [
        {
          "output_type": "error",
          "ename": "SyntaxError",
          "evalue": "invalid syntax (<ipython-input-137-6b1dd31bd784>, line 2)",
          "traceback": [
            "\u001b[0;36m  File \u001b[0;32m\"<ipython-input-137-6b1dd31bd784>\"\u001b[0;36m, line \u001b[0;32m2\u001b[0m\n\u001b[0;31m    m\u001b[0m\n\u001b[0m    ^\u001b[0m\n\u001b[0;31mSyntaxError\u001b[0m\u001b[0;31m:\u001b[0m invalid syntax\n"
          ]
        }
      ]
    },
    {
      "metadata": {
        "id": "JLhLChh_ASpE",
        "colab_type": "code",
        "colab": {},
        "outputId": "6cb86cfb-83a1-48d7-bcf7-ec203c7a0b59"
      },
      "cell_type": "code",
      "source": [
        "m[:,:,0]"
      ],
      "execution_count": 0,
      "outputs": [
        {
          "output_type": "error",
          "ename": "IndexError",
          "evalue": "too many indices for array",
          "traceback": [
            "\u001b[0;31m---------------------------------------------------------------------------\u001b[0m",
            "\u001b[0;31mIndexError\u001b[0m                                Traceback (most recent call last)",
            "\u001b[0;32m<ipython-input-109-8f48378f2d89>\u001b[0m in \u001b[0;36m<module>\u001b[0;34m\u001b[0m\n\u001b[0;32m----> 1\u001b[0;31m \u001b[0mm\u001b[0m\u001b[0;34m[\u001b[0m\u001b[0;34m:\u001b[0m\u001b[0;34m,\u001b[0m\u001b[0;34m:\u001b[0m\u001b[0;34m,\u001b[0m\u001b[0;36m0\u001b[0m\u001b[0;34m]\u001b[0m\u001b[0;34m\u001b[0m\u001b[0;34m\u001b[0m\u001b[0m\n\u001b[0m",
            "\u001b[0;31mIndexError\u001b[0m: too many indices for array"
          ]
        }
      ]
    },
    {
      "metadata": {
        "id": "gIJVtZrSASpG",
        "colab_type": "code",
        "colab": {},
        "outputId": "050b846f-b719-4afb-aa0d-8bceaf44c386"
      },
      "cell_type": "code",
      "source": [
        "m[0,:,:]"
      ],
      "execution_count": 0,
      "outputs": [
        {
          "output_type": "error",
          "ename": "IndexError",
          "evalue": "too many indices for array",
          "traceback": [
            "\u001b[0;31m---------------------------------------------------------------------------\u001b[0m",
            "\u001b[0;31mIndexError\u001b[0m                                Traceback (most recent call last)",
            "\u001b[0;32m<ipython-input-110-b87e59db71b8>\u001b[0m in \u001b[0;36m<module>\u001b[0;34m\u001b[0m\n\u001b[0;32m----> 1\u001b[0;31m \u001b[0mm\u001b[0m\u001b[0;34m[\u001b[0m\u001b[0;36m0\u001b[0m\u001b[0;34m,\u001b[0m\u001b[0;34m:\u001b[0m\u001b[0;34m,\u001b[0m\u001b[0;34m:\u001b[0m\u001b[0;34m]\u001b[0m\u001b[0;34m\u001b[0m\u001b[0;34m\u001b[0m\u001b[0m\n\u001b[0m",
            "\u001b[0;31mIndexError\u001b[0m: too many indices for array"
          ]
        }
      ]
    },
    {
      "metadata": {
        "id": "AH7WEvbAASpI",
        "colab_type": "code",
        "colab": {},
        "outputId": "725a8333-1baa-4050-8c63-8fadbb4b12cc"
      },
      "cell_type": "code",
      "source": [
        "src1=np.array([[23,123,90],[100,250,0]],np.uint8)\n",
        "src2=np.array([[125,150,60],[100,10,40]],np.uint8)\n",
        "dst=src1=src2\n",
        "dst"
      ],
      "execution_count": 0,
      "outputs": [
        {
          "output_type": "execute_result",
          "data": {
            "text/plain": [
              "array([[125, 150,  60],\n",
              "       [100,  10,  40]], dtype=uint8)"
            ]
          },
          "metadata": {
            "tags": []
          },
          "execution_count": 113
        }
      ]
    },
    {
      "metadata": {
        "id": "WqnGP7owASpK",
        "colab_type": "code",
        "colab": {},
        "outputId": "77e32bfb-8560-4870-c80d-51ac97b6a602"
      },
      "cell_type": "code",
      "source": [
        "src2=np.array([[125,150,60],[100,10,40]],np.float32)\n",
        "dst=src1+src2\n",
        "dst"
      ],
      "execution_count": 0,
      "outputs": [
        {
          "output_type": "execute_result",
          "data": {
            "text/plain": [
              "array([[250., 300., 120.],\n",
              "       [200.,  20.,  80.]], dtype=float32)"
            ]
          },
          "metadata": {
            "tags": []
          },
          "execution_count": 114
        }
      ]
    },
    {
      "metadata": {
        "id": "xFYIHj-XASpM",
        "colab_type": "code",
        "colab": {},
        "outputId": "3e0ba389-99bb-403f-a691-fd8b7456a30d"
      },
      "cell_type": "code",
      "source": [
        "import cv2\n",
        "dst=cv2.add (src1,  src2, dtype=cv2.CV_32F) \n",
        "dst"
      ],
      "execution_count": 0,
      "outputs": [
        {
          "output_type": "execute_result",
          "data": {
            "text/plain": [
              "array([[250., 300., 120.],\n",
              "       [200.,  20.,  80.]], dtype=float32)"
            ]
          },
          "metadata": {
            "tags": []
          },
          "execution_count": 115
        }
      ]
    },
    {
      "metadata": {
        "id": "k1WwP92AASpN",
        "colab_type": "code",
        "colab": {},
        "outputId": "41c09dc3-2c98-4f2d-a8de-5a288d020d6a"
      },
      "cell_type": "code",
      "source": [
        "src2=np.array([[125,150,60],[100,10,40]],np.uint8)\n",
        "dst=src1-src2\n",
        "dst"
      ],
      "execution_count": 0,
      "outputs": [
        {
          "output_type": "execute_result",
          "data": {
            "text/plain": [
              "array([[0, 0, 0],\n",
              "       [0, 0, 0]], dtype=uint8)"
            ]
          },
          "metadata": {
            "tags": []
          },
          "execution_count": 116
        }
      ]
    },
    {
      "metadata": {
        "id": "dpovgI9aASpP",
        "colab_type": "code",
        "colab": {},
        "outputId": "5395b499-20e7-49d2-cb8c-a17eaa61b8fb"
      },
      "cell_type": "code",
      "source": [
        "src2=np.array([[125,150,60],[100,10,40]],np.float32)\n",
        "dst=src1*src2\n",
        "dst"
      ],
      "execution_count": 0,
      "outputs": [
        {
          "output_type": "execute_result",
          "data": {
            "text/plain": [
              "array([[15625., 22500.,  3600.],\n",
              "       [10000.,   100.,  1600.]], dtype=float32)"
            ]
          },
          "metadata": {
            "tags": []
          },
          "execution_count": 118
        }
      ]
    },
    {
      "metadata": {
        "id": "HMm1Ydr7ASpR",
        "colab_type": "code",
        "colab": {},
        "outputId": "ec066c8f-990d-473f-8801-0593718e005e"
      },
      "cell_type": "code",
      "source": [
        "dst=np.multiply (src1,src2) \n",
        "dst"
      ],
      "execution_count": 0,
      "outputs": [
        {
          "output_type": "execute_result",
          "data": {
            "text/plain": [
              "array([[15625., 22500.,  3600.],\n",
              "       [10000.,   100.,  1600.]], dtype=float32)"
            ]
          },
          "metadata": {
            "tags": []
          },
          "execution_count": 119
        }
      ]
    },
    {
      "metadata": {
        "id": "XnuQPiNQASpT",
        "colab_type": "code",
        "colab": {},
        "outputId": "0ea3a5eb-d5c6-4951-a215-89bd815424bb"
      },
      "cell_type": "code",
      "source": [
        "src2=np.array([[125,150,60],[100,10,40]],np.uint8)\n",
        "dst=src2/src1\n",
        "dst"
      ],
      "execution_count": 0,
      "outputs": [
        {
          "output_type": "execute_result",
          "data": {
            "text/plain": [
              "array([[1., 1., 1.],\n",
              "       [1., 1., 1.]])"
            ]
          },
          "metadata": {
            "tags": []
          },
          "execution_count": 121
        }
      ]
    },
    {
      "metadata": {
        "id": "BohOlQuqASpV",
        "colab_type": "code",
        "colab": {},
        "outputId": "d358fb39-31c4-4cd8-880e-bc6c14d8356a"
      },
      "cell_type": "code",
      "source": [
        "src2=np.array([[125,150,60],[100,10,40]],np.float32)\n",
        "dst=src2/src1\n",
        "dst"
      ],
      "execution_count": 0,
      "outputs": [
        {
          "output_type": "execute_result",
          "data": {
            "text/plain": [
              "array([[1., 1., 1.],\n",
              "       [1., 1., 1.]], dtype=float32)"
            ]
          },
          "metadata": {
            "tags": []
          },
          "execution_count": 123
        }
      ]
    },
    {
      "metadata": {
        "id": "4MuTL-urASpX",
        "colab_type": "code",
        "colab": {},
        "outputId": "e4229181-c819-4e3d-8523-9645df27bb57"
      },
      "cell_type": "code",
      "source": [
        "src3=np.array([[1,2,3],[4,5,6]],np.uint8)\n",
        "src4=np.array([[6,5],[4,3],[2,1]],np.uint8)\n",
        "dst=np.dot(src3, src4)\n",
        "dst"
      ],
      "execution_count": 0,
      "outputs": [
        {
          "output_type": "execute_result",
          "data": {
            "text/plain": [
              "array([[20, 14],\n",
              "       [56, 41]], dtype=uint8)"
            ]
          },
          "metadata": {
            "tags": []
          },
          "execution_count": 127
        }
      ]
    },
    {
      "metadata": {
        "id": "aegXllgjASpa",
        "colab_type": "code",
        "colab": {},
        "outputId": "193f02c5-d13a-460f-926c-a6647e5a2312"
      },
      "cell_type": "code",
      "source": [
        "src5=np.array([[6,5],[4,3]],np.uint8)\n",
        "dst2=np.log(src5)\n",
        "dst2.dtype"
      ],
      "execution_count": 0,
      "outputs": [
        {
          "output_type": "execute_result",
          "data": {
            "text/plain": [
              "dtype('float16')"
            ]
          },
          "metadata": {
            "tags": []
          },
          "execution_count": 128
        }
      ]
    },
    {
      "metadata": {
        "id": "pwUbd60DASpc",
        "colab_type": "code",
        "colab": {},
        "outputId": "ad2be9b7-09bb-44e3-ebb0-046a214a8f63"
      },
      "cell_type": "code",
      "source": [
        "dst2"
      ],
      "execution_count": 0,
      "outputs": [
        {
          "output_type": "execute_result",
          "data": {
            "text/plain": [
              "array([[1.792, 1.609],\n",
              "       [1.387, 1.099]], dtype=float16)"
            ]
          },
          "metadata": {
            "tags": []
          },
          "execution_count": 129
        }
      ]
    },
    {
      "metadata": {
        "id": "HpZokxTxASpe",
        "colab_type": "code",
        "colab": {},
        "outputId": "3937b13e-a287-4d7a-fb0c-6ce0f2671a0b"
      },
      "cell_type": "code",
      "source": [
        "src=np.array([[30,40],[10,100]],np.uint8)\n",
        "dst1=np.power(src,2)\n",
        "dst1"
      ],
      "execution_count": 0,
      "outputs": [
        {
          "output_type": "execute_result",
          "data": {
            "text/plain": [
              "array([[132,  64],\n",
              "       [100,  16]], dtype=uint8)"
            ]
          },
          "metadata": {
            "tags": []
          },
          "execution_count": 131
        }
      ]
    },
    {
      "metadata": {
        "id": "lMmCrCbqASpg",
        "colab_type": "code",
        "colab": {},
        "outputId": "0204d64c-68a8-45e2-d750-962743b41836"
      },
      "cell_type": "code",
      "source": [
        "dst2=np.power(src,2.0)\n",
        "dst2"
      ],
      "execution_count": 0,
      "outputs": [
        {
          "output_type": "execute_result",
          "data": {
            "text/plain": [
              "array([[  900.,  1600.],\n",
              "       [  100., 10000.]])"
            ]
          },
          "metadata": {
            "tags": []
          },
          "execution_count": 132
        }
      ]
    },
    {
      "metadata": {
        "id": "pxBihZKRASpi",
        "colab_type": "code",
        "colab": {},
        "outputId": "1b4d8337-761c-49ec-bf9e-531a38cd7d53"
      },
      "cell_type": "code",
      "source": [
        "dst2.dtype"
      ],
      "execution_count": 0,
      "outputs": [
        {
          "output_type": "execute_result",
          "data": {
            "text/plain": [
              "dtype('float64')"
            ]
          },
          "metadata": {
            "tags": []
          },
          "execution_count": 133
        }
      ]
    },
    {
      "metadata": {
        "id": "l9fUrCfNASpk",
        "colab_type": "code",
        "colab": {}
      },
      "cell_type": "code",
      "source": [
        ""
      ],
      "execution_count": 0,
      "outputs": []
    }
  ]
}